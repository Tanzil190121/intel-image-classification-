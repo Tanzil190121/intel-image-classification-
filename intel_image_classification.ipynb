{
  "nbformat": 4,
  "nbformat_minor": 0,
  "metadata": {
    "colab": {
      "provenance": [],
      "gpuType": "T4"
    },
    "kernelspec": {
      "name": "python3",
      "display_name": "Python 3"
    },
    "language_info": {
      "name": "python"
    },
    "accelerator": "GPU"
  },
  "cells": [
    {
      "cell_type": "code",
      "execution_count": null,
      "metadata": {
        "id": "5c0Sg9zkSdvO"
      },
      "outputs": [],
      "source": [
        "from zipfile import ZipFile"
      ]
    },
    {
      "cell_type": "code",
      "source": [
        "with ZipFile('/content/drive/MyDrive/archive (9).zip','r') as zipObj:\n",
        "  zipObj.extractall(\"/content/drive/MyDrive/neww\")"
      ],
      "metadata": {
        "id": "BR_AOfgtSjhr"
      },
      "execution_count": null,
      "outputs": []
    },
    {
      "cell_type": "code",
      "source": [
        "import os\n",
        "from PIL import Image\n",
        "\n",
        "def check_images(folder_path):\n",
        "    corrupted_images = []\n",
        "\n",
        "    for root, _, files in os.walk(folder_path):\n",
        "        for file in files:\n",
        "            if file.lower().endswith(('.jpg', '.jpeg', '.png', '.gif')):\n",
        "                image_path = os.path.join(root, file)\n",
        "                try:\n",
        "                    with Image.open(image_path) as img:\n",
        "                        img.verify()\n",
        "                except (IOError, SyntaxError) as e:\n",
        "                    corrupted_images.append(image_path)\n",
        "                    print(f\"Corrupted image: {image_path}\")\n",
        "\n",
        "    return corrupted_images\n",
        "\n",
        "folder_to_check = \"/content/drive/MyDrive/neww/seg_train\"\n",
        "corrupted_images_list = check_images(folder_to_check)\n",
        "\n",
        "if len(corrupted_images_list) == 0:\n",
        "    print(\"No corrupted images found.\")\n",
        "else:\n",
        "    print(f\"Total {len(corrupted_images_list)} corrupted images found.\")\n",
        "\n"
      ],
      "metadata": {
        "colab": {
          "base_uri": "https://localhost:8080/"
        },
        "id": "oaq6yrbrTKI7",
        "outputId": "628d98a9-2df0-43eb-fa08-ba0b7e92a621"
      },
      "execution_count": null,
      "outputs": [
        {
          "output_type": "stream",
          "name": "stdout",
          "text": [
            "No corrupted images found.\n"
          ]
        }
      ]
    },
    {
      "cell_type": "code",
      "source": [
        "import os\n",
        "from PIL import Image\n",
        "\n",
        "def check_images(folder_path):\n",
        "    corrupted_images = []\n",
        "\n",
        "    for root, _, files in os.walk(folder_path):\n",
        "        for file in files:\n",
        "            if file.lower().endswith(('.jpg', '.jpeg', '.png', '.gif')):\n",
        "                image_path = os.path.join(root, file)\n",
        "                try:\n",
        "                    with Image.open(image_path) as img:\n",
        "                        img.verify()\n",
        "                except (IOError, SyntaxError) as e:\n",
        "                    corrupted_images.append(image_path)\n",
        "                    print(f\"Corrupted image: {image_path}\")\n",
        "\n",
        "    return corrupted_images\n",
        "\n",
        "folder_to_check = \"/content/drive/MyDrive/neww/seg_test/seg_test\"\n",
        "corrupted_images_list = check_images(folder_to_check)\n",
        "\n",
        "if len(corrupted_images_list) == 0:\n",
        "    print(\"No corrupted images found.\")\n",
        "else:\n",
        "    print(f\"Total {len(corrupted_images_list)} corrupted images found.\")\n"
      ],
      "metadata": {
        "colab": {
          "base_uri": "https://localhost:8080/"
        },
        "id": "tzXzr2BGVnAf",
        "outputId": "09770e40-90fd-442a-e6fd-f7c45aaafe75"
      },
      "execution_count": null,
      "outputs": [
        {
          "output_type": "stream",
          "name": "stdout",
          "text": [
            "No corrupted images found.\n"
          ]
        }
      ]
    },
    {
      "cell_type": "code",
      "source": [
        "import tensorflow as tf\n",
        "from tensorflow.keras.preprocessing import image_dataset_from_directory"
      ],
      "metadata": {
        "id": "ODViqjatWdcR"
      },
      "execution_count": null,
      "outputs": []
    },
    {
      "cell_type": "code",
      "source": [
        "image_size=(224,224)\n",
        "batch_size=32\n",
        "train_ds=image_dataset_from_directory(\n",
        "    '/content/drive/MyDrive/neww/seg_train/seg_train',\n",
        "    labels='inferred',\n",
        "    label_mode='int',\n",
        "    validation_split=0.2,\n",
        "    color_mode='rgb',\n",
        "    subset='training',\n",
        "    seed=1337,\n",
        "    image_size=image_size,\n",
        "    batch_size=batch_size,\n",
        "    shuffle=True\n",
        "\n",
        ")\n",
        "print(\"Training dataset shape:\", train_ds.cardinality())"
      ],
      "metadata": {
        "colab": {
          "base_uri": "https://localhost:8080/"
        },
        "id": "25z2uW91WtTw",
        "outputId": "c4498f7b-36dd-473f-94d5-8aef4ca3c7e7"
      },
      "execution_count": null,
      "outputs": [
        {
          "output_type": "stream",
          "name": "stdout",
          "text": [
            "Found 10544 files belonging to 6 classes.\n",
            "Using 8436 files for training.\n",
            "Training dataset shape: tf.Tensor(264, shape=(), dtype=int64)\n"
          ]
        }
      ]
    },
    {
      "cell_type": "code",
      "source": [
        "import tensorflow as tf\n",
        "from tensorflow.keras.models import Sequential\n",
        "from tensorflow.keras.layers import Conv2D,MaxPooling2D,Flatten,Dense"
      ],
      "metadata": {
        "id": "wPr-SyMaX_Ji"
      },
      "execution_count": null,
      "outputs": []
    },
    {
      "cell_type": "code",
      "source": [
        "num_classes =6\n",
        "\n",
        "model = Sequential([\n",
        "    Conv2D(32, (3, 3), activation='relu', input_shape=(image_size[0], image_size[1], 3)),\n",
        "    MaxPooling2D(2, 2),\n",
        "    Conv2D(64, (3, 3), activation='relu'),\n",
        "    MaxPooling2D(2, 2),\n",
        "    Conv2D(128, (3, 3), activation='relu'),\n",
        "    MaxPooling2D(2, 2),\n",
        "    Flatten(),\n",
        "    Dense(128, activation='relu'),\n",
        "    Dense(num_classes, activation='softmax')\n",
        "])\n",
        "\n",
        "model.compile(optimizer='adam', loss='sparse_categorical_crossentropy', metrics=['accuracy'])\n",
        "model.fit(train_ds, epochs=10)"
      ],
      "metadata": {
        "colab": {
          "base_uri": "https://localhost:8080/"
        },
        "id": "uDKZAGGJYUPP",
        "outputId": "36cd2d21-f323-4ae6-bfdd-d444d0b0abf1"
      },
      "execution_count": null,
      "outputs": [
        {
          "output_type": "stream",
          "name": "stdout",
          "text": [
            "Epoch 1/10\n",
            " 20/264 [=>............................] - ETA: 45:34 - loss: 85.2276 - accuracy: 0.2922"
          ]
        }
      ]
    },
    {
      "cell_type": "code",
      "source": [],
      "metadata": {
        "id": "YEaWljmwYck7"
      },
      "execution_count": null,
      "outputs": []
    }
  ]
}